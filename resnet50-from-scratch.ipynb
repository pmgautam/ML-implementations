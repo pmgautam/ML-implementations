{
 "cells": [
  {
   "cell_type": "markdown",
   "id": "73f4e04e",
   "metadata": {
    "papermill": {
     "duration": 0.005766,
     "end_time": "2022-08-18T07:52:43.589920",
     "exception": false,
     "start_time": "2022-08-18T07:52:43.584154",
     "status": "completed"
    },
    "tags": []
   },
   "source": [
    "This is a implementation ResNet-50 with as much verbose as possible. I wrote this code while trying to understand ResNet. To make sure it is correct, pretrained weights of ResNet50 are loaded from PyTorch model."
   ]
  },
  {
   "cell_type": "code",
   "execution_count": 1,
   "id": "a8cb8aac",
   "metadata": {
    "execution": {
     "iopub.execute_input": "2022-08-18T07:52:43.601569Z",
     "iopub.status.busy": "2022-08-18T07:52:43.600907Z",
     "iopub.status.idle": "2022-08-18T07:52:45.752787Z",
     "shell.execute_reply": "2022-08-18T07:52:45.751659Z"
    },
    "papermill": {
     "duration": 2.161022,
     "end_time": "2022-08-18T07:52:45.755811",
     "exception": false,
     "start_time": "2022-08-18T07:52:43.594789",
     "status": "completed"
    },
    "tags": []
   },
   "outputs": [],
   "source": [
    "# imports\n",
    "import numpy as np\n",
    "import torch\n",
    "import torch.nn as nn\n",
    "from collections import OrderedDict\n",
    "\n",
    "from torchvision import models"
   ]
  },
  {
   "cell_type": "code",
   "execution_count": 2,
   "id": "8b88824a",
   "metadata": {
    "execution": {
     "iopub.execute_input": "2022-08-18T07:52:45.768736Z",
     "iopub.status.busy": "2022-08-18T07:52:45.767539Z",
     "iopub.status.idle": "2022-08-18T07:52:45.773474Z",
     "shell.execute_reply": "2022-08-18T07:52:45.772271Z"
    },
    "papermill": {
     "duration": 0.01539,
     "end_time": "2022-08-18T07:52:45.776313",
     "exception": false,
     "start_time": "2022-08-18T07:52:45.760923",
     "status": "completed"
    },
    "tags": []
   },
   "outputs": [],
   "source": [
    "device = torch.device(\"cuda\" if torch.cuda.is_available() else \"cpu\") # select device"
   ]
  },
  {
   "cell_type": "code",
   "execution_count": 3,
   "id": "76b49b0f",
   "metadata": {
    "execution": {
     "iopub.execute_input": "2022-08-18T07:52:45.787804Z",
     "iopub.status.busy": "2022-08-18T07:52:45.787424Z",
     "iopub.status.idle": "2022-08-18T07:52:45.799840Z",
     "shell.execute_reply": "2022-08-18T07:52:45.798572Z"
    },
    "papermill": {
     "duration": 0.021077,
     "end_time": "2022-08-18T07:52:45.802379",
     "exception": false,
     "start_time": "2022-08-18T07:52:45.781302",
     "status": "completed"
    },
    "tags": []
   },
   "outputs": [],
   "source": [
    "# define res1 block\n",
    "class Layer1(nn.Module):\n",
    "    def __init__( self):\n",
    "        super(Layer1, self).__init__()\n",
    "        self.block1 = nn.Sequential(\n",
    "                nn.Conv2d(64, 64, kernel_size=(1, 1), bias=False),\n",
    "                nn.BatchNorm2d(64),\n",
    "                nn.ReLU(),\n",
    "\n",
    "                nn.Conv2d(64, 64, kernel_size=(3, 3), padding=(1,1), bias=False),\n",
    "                nn.BatchNorm2d(64),\n",
    "                nn.ReLU(),\n",
    "\n",
    "                nn.Conv2d(64, 256, kernel_size=(1, 1), bias=False),\n",
    "                nn.BatchNorm2d(256),\n",
    "            )\n",
    "     \n",
    "        # downsample 1\n",
    "        self.downsample1 = nn.Sequential(\n",
    "                nn.Conv2d(64, 256, kernel_size=(1, 1), bias=False),\n",
    "                nn.BatchNorm2d(256)\n",
    "        )       \n",
    "        \n",
    "        self.block2 = nn.Sequential(\n",
    "                nn.Conv2d(256, 64, kernel_size=(1, 1), bias=False),\n",
    "                nn.BatchNorm2d(64),\n",
    "                nn.ReLU(),\n",
    "\n",
    "                nn.Conv2d(64, 64, kernel_size=(3, 3), padding=(1,1), bias=False),\n",
    "                nn.BatchNorm2d(64),\n",
    "                nn.ReLU(),\n",
    "\n",
    "                nn.Conv2d(64, 256, kernel_size=(1, 1), bias=False),\n",
    "                nn.BatchNorm2d(256),\n",
    "            )\n",
    "        \n",
    "        self.block3 = nn.Sequential(\n",
    "                nn.Conv2d(256, 64, kernel_size=(1, 1), bias=False),\n",
    "                nn.BatchNorm2d(64),\n",
    "                nn.ReLU(),\n",
    "\n",
    "                nn.Conv2d(64, 64, kernel_size=(3, 3), padding=(1,1), bias=False),\n",
    "                nn.BatchNorm2d(64),\n",
    "                nn.ReLU(),\n",
    "\n",
    "                nn.Conv2d(64, 256, kernel_size=(1, 1), bias=False),\n",
    "                nn.BatchNorm2d(256),\n",
    "            )"
   ]
  },
  {
   "cell_type": "code",
   "execution_count": 4,
   "id": "0dcac8be",
   "metadata": {
    "execution": {
     "iopub.execute_input": "2022-08-18T07:52:45.814172Z",
     "iopub.status.busy": "2022-08-18T07:52:45.813465Z",
     "iopub.status.idle": "2022-08-18T07:52:45.828368Z",
     "shell.execute_reply": "2022-08-18T07:52:45.827089Z"
    },
    "papermill": {
     "duration": 0.023724,
     "end_time": "2022-08-18T07:52:45.830965",
     "exception": false,
     "start_time": "2022-08-18T07:52:45.807241",
     "status": "completed"
    },
    "tags": []
   },
   "outputs": [],
   "source": [
    "# define res2 block\n",
    "class Layer2(nn.Module):\n",
    "    def __init__( self):\n",
    "        super(Layer2, self).__init__()\n",
    "        self.block1 = nn.Sequential(\n",
    "                nn.Conv2d(256, 128, kernel_size=(1, 1), bias=False),\n",
    "                nn.BatchNorm2d(128),\n",
    "                nn.ReLU(),\n",
    "                \n",
    "                nn.Conv2d(128, 128, kernel_size=(3, 3), stride=(2, 2), padding=(1, 1), bias=False),\n",
    "                nn.BatchNorm2d(128),\n",
    "                nn.ReLU(),\n",
    "                \n",
    "                nn.Conv2d(128, 512, kernel_size=(1, 1), bias=False),\n",
    "                nn.BatchNorm2d(512),\n",
    "            )\n",
    "\n",
    "        # downsample 2\n",
    "        self.downsample2 = nn.Sequential(\n",
    "                nn.Conv2d(256, 512, kernel_size=(1, 1), stride=(2, 2), bias=False),\n",
    "                nn.BatchNorm2d(512)\n",
    "        )\n",
    "        \n",
    "        self.block2 = nn.Sequential(\n",
    "                nn.Conv2d(512, 128, kernel_size=(1, 1), bias=False),\n",
    "                nn.BatchNorm2d(128),\n",
    "                nn.ReLU(),\n",
    "                \n",
    "                nn.Conv2d(128, 128, kernel_size=(3, 3), padding=(1, 1), bias=False),\n",
    "                nn.BatchNorm2d(128),\n",
    "                nn.ReLU(),\n",
    "                \n",
    "                nn.Conv2d(128, 512, kernel_size=(1, 1), bias=False),\n",
    "                nn.BatchNorm2d(512),\n",
    "            )\n",
    "        \n",
    "        self.block3 = nn.Sequential(\n",
    "                nn.Conv2d(512, 128, kernel_size=(1, 1), bias=False),\n",
    "                nn.BatchNorm2d(128),\n",
    "                nn.ReLU(),\n",
    "                \n",
    "                nn.Conv2d(128, 128, kernel_size=(3, 3), padding=(1,1), bias=False),\n",
    "                nn.BatchNorm2d(128),\n",
    "                nn.ReLU(),\n",
    "                \n",
    "                nn.Conv2d(128, 512, kernel_size=(1, 1), bias=False),\n",
    "                nn.BatchNorm2d(512),\n",
    "            )\n",
    "        \n",
    "        self.block4 = nn.Sequential(\n",
    "                nn.Conv2d(512, 128, kernel_size=(1, 1), bias=False),\n",
    "                nn.BatchNorm2d(128),\n",
    "                nn.ReLU(),\n",
    "                \n",
    "                nn.Conv2d(128, 128, kernel_size=(3, 3), padding=(1,1), bias=False),\n",
    "                nn.BatchNorm2d(128),\n",
    "                nn.ReLU(),\n",
    "                \n",
    "                nn.Conv2d(128, 512, kernel_size=(1, 1), bias=False),\n",
    "                nn.BatchNorm2d(512),\n",
    "            )"
   ]
  },
  {
   "cell_type": "code",
   "execution_count": 5,
   "id": "84bfe973",
   "metadata": {
    "execution": {
     "iopub.execute_input": "2022-08-18T07:52:45.842321Z",
     "iopub.status.busy": "2022-08-18T07:52:45.841891Z",
     "iopub.status.idle": "2022-08-18T07:52:45.862941Z",
     "shell.execute_reply": "2022-08-18T07:52:45.861612Z"
    },
    "papermill": {
     "duration": 0.029893,
     "end_time": "2022-08-18T07:52:45.865589",
     "exception": false,
     "start_time": "2022-08-18T07:52:45.835696",
     "status": "completed"
    },
    "tags": []
   },
   "outputs": [],
   "source": [
    "# define res3 block\n",
    "class Layer3(nn.Module):\n",
    "    def __init__( self):\n",
    "        super(Layer3, self).__init__()\n",
    "        self.block1 = nn.Sequential(\n",
    "                nn.Conv2d(512, 256, kernel_size=(1, 1), bias=False),\n",
    "                nn.BatchNorm2d(256),\n",
    "                nn.ReLU(),\n",
    "                \n",
    "                nn.Conv2d(256, 256, kernel_size=(3, 3), stride=(2, 2), padding=(1, 1), bias=False),\n",
    "                nn.BatchNorm2d(256),\n",
    "                nn.ReLU(),\n",
    "                \n",
    "                nn.Conv2d(256, 1024, kernel_size=(1, 1), bias=False),\n",
    "                nn.BatchNorm2d(1024),\n",
    "            )\n",
    " \n",
    "        # downsample 3\n",
    "        self.downsample3 = nn.Sequential(\n",
    "                nn.Conv2d(512, 1024, kernel_size=(1, 1), stride=(2, 2), bias=False),\n",
    "                nn.BatchNorm2d(1024)\n",
    "        )\n",
    "\n",
    "        self.block2 = nn.Sequential(\n",
    "                nn.Conv2d(1024, 256, kernel_size=(1, 1), bias=False),\n",
    "                nn.BatchNorm2d(256),\n",
    "                nn.ReLU(),\n",
    "                \n",
    "                nn.Conv2d(256, 256, kernel_size=(3, 3), stride=(1, 1), padding=(1, 1), bias=False),\n",
    "                nn.BatchNorm2d(256),\n",
    "                nn.ReLU(),\n",
    "                \n",
    "                nn.Conv2d(256, 1024, kernel_size=(1, 1), bias=False),\n",
    "                nn.BatchNorm2d(1024),\n",
    "            )\n",
    "        \n",
    "        self.block3 = nn.Sequential(\n",
    "                nn.Conv2d(1024, 256, kernel_size=(1, 1), bias=False),\n",
    "                nn.BatchNorm2d(256),\n",
    "                nn.ReLU(),\n",
    "                \n",
    "                nn.Conv2d(256, 256, kernel_size=(3, 3), stride=(1, 1), padding=(1, 1), bias=False),\n",
    "                nn.BatchNorm2d(256),\n",
    "                nn.ReLU(),\n",
    "                \n",
    "                nn.Conv2d(256, 1024, kernel_size=(1, 1), bias=False),\n",
    "                nn.BatchNorm2d(1024),\n",
    "            )\n",
    "            \n",
    "        self.block4 = nn.Sequential(\n",
    "                nn.Conv2d(1024, 256, kernel_size=(1, 1), bias=False),\n",
    "                nn.BatchNorm2d(256),\n",
    "                nn.ReLU(),\n",
    "                \n",
    "                nn.Conv2d(256, 256, kernel_size=(3, 3), stride=(1, 1), padding=(1, 1), bias=False),\n",
    "                nn.BatchNorm2d(256),\n",
    "                nn.ReLU(),\n",
    "                \n",
    "                nn.Conv2d(256, 1024, kernel_size=(1, 1), bias=False),\n",
    "                nn.BatchNorm2d(1024),\n",
    "            )\n",
    "        \n",
    "        self.block5 = nn.Sequential(\n",
    "                nn.Conv2d(1024, 256, kernel_size=(1, 1), bias=False),\n",
    "                nn.BatchNorm2d(256),\n",
    "                nn.ReLU(),\n",
    "                \n",
    "                nn.Conv2d(256, 256, kernel_size=(3, 3), stride=(1, 1), padding=(1, 1), bias=False),\n",
    "                nn.BatchNorm2d(256),\n",
    "                nn.ReLU(),\n",
    "                \n",
    "                nn.Conv2d(256, 1024, kernel_size=(1, 1), bias=False),\n",
    "                nn.BatchNorm2d(1024),\n",
    "            )\n",
    "          \n",
    "        self.block6 = nn.Sequential(\n",
    "                nn.Conv2d(1024, 256, kernel_size=(1, 1), bias=False),\n",
    "                nn.BatchNorm2d(256),\n",
    "                nn.ReLU(),\n",
    "                \n",
    "                nn.Conv2d(256, 256, kernel_size=(3, 3), stride=(1, 1), padding=(1, 1), bias=False),\n",
    "                nn.BatchNorm2d(256),\n",
    "                nn.ReLU(),\n",
    "                \n",
    "                nn.Conv2d(256, 1024, kernel_size=(1, 1), bias=False),\n",
    "                nn.BatchNorm2d(1024),\n",
    "            )"
   ]
  },
  {
   "cell_type": "code",
   "execution_count": 6,
   "id": "6d919f5e",
   "metadata": {
    "execution": {
     "iopub.execute_input": "2022-08-18T07:52:45.877398Z",
     "iopub.status.busy": "2022-08-18T07:52:45.876448Z",
     "iopub.status.idle": "2022-08-18T07:52:45.890585Z",
     "shell.execute_reply": "2022-08-18T07:52:45.889462Z"
    },
    "papermill": {
     "duration": 0.02258,
     "end_time": "2022-08-18T07:52:45.892984",
     "exception": false,
     "start_time": "2022-08-18T07:52:45.870404",
     "status": "completed"
    },
    "tags": []
   },
   "outputs": [],
   "source": [
    "# define res4 block\n",
    "class Layer4(nn.Module):\n",
    "    def __init__( self):\n",
    "        super(Layer4, self).__init__()\n",
    "        \n",
    "        self.block1 = nn.Sequential(\n",
    "                nn.Conv2d(1024, 512, kernel_size=(1, 1), bias=False),\n",
    "                nn.BatchNorm2d(512),\n",
    "                nn.ReLU(),\n",
    "                \n",
    "                nn.Conv2d(512, 512, kernel_size=(3, 3), stride=(2, 2), padding=(1, 1), bias=False),\n",
    "                nn.BatchNorm2d(512),\n",
    "                nn.ReLU(),\n",
    "                \n",
    "                nn.Conv2d(512, 2048, kernel_size=(1, 1), bias=False),\n",
    "                nn.BatchNorm2d(2048),\n",
    "            )\n",
    "\n",
    "        # downsample 4\n",
    "        self.downsample4 = nn.Sequential(\n",
    "                nn.Conv2d(1024, 2048, kernel_size=(1, 1), stride=(2, 2), bias=False),\n",
    "                nn.BatchNorm2d(2048)\n",
    "        )        \n",
    "        \n",
    "        self.block2 = nn.Sequential(\n",
    "                nn.Conv2d(2048, 512, kernel_size=(1, 1), bias=False),\n",
    "                nn.BatchNorm2d(512),\n",
    "                nn.ReLU(),\n",
    "                \n",
    "                nn.Conv2d(512, 512, kernel_size=(3, 3), stride=(1, 1), padding=(1, 1), bias=False),\n",
    "                nn.BatchNorm2d(512),\n",
    "                nn.ReLU(),\n",
    "                \n",
    "                nn.Conv2d(512, 2048, kernel_size=(1, 1), bias=False),\n",
    "                nn.BatchNorm2d(2048),\n",
    "            )\n",
    "        \n",
    "        self.block3 = nn.Sequential(\n",
    "                nn.Conv2d(2048, 512, kernel_size=(1, 1), bias=False),\n",
    "                nn.BatchNorm2d(512),\n",
    "                nn.ReLU(),\n",
    "                \n",
    "                nn.Conv2d(512, 512, kernel_size=(3, 3), stride=(1, 1), padding=(1, 1), bias=False),\n",
    "                nn.BatchNorm2d(512),\n",
    "                nn.ReLU(),\n",
    "                \n",
    "                nn.Conv2d(512, 2048, kernel_size=(1, 1), bias=False),\n",
    "                nn.BatchNorm2d(2048),\n",
    "            )"
   ]
  },
  {
   "cell_type": "code",
   "execution_count": 7,
   "id": "932ce88a",
   "metadata": {
    "execution": {
     "iopub.execute_input": "2022-08-18T07:52:45.904321Z",
     "iopub.status.busy": "2022-08-18T07:52:45.903906Z",
     "iopub.status.idle": "2022-08-18T07:52:45.922626Z",
     "shell.execute_reply": "2022-08-18T07:52:45.921516Z"
    },
    "papermill": {
     "duration": 0.027613,
     "end_time": "2022-08-18T07:52:45.925334",
     "exception": false,
     "start_time": "2022-08-18T07:52:45.897721",
     "status": "completed"
    },
    "tags": []
   },
   "outputs": [],
   "source": [
    "# define the ResNet50 model using the above blocks\n",
    "class ResNet50(nn.Module):\n",
    "    def __init__(self):\n",
    "        super(ResNet50, self).__init__()\n",
    "        \n",
    "        self.conv1 = nn.Conv2d(3, 64, kernel_size=(7, 7), stride=(2, 2), padding=(3, 3), bias=False)\n",
    "        self.bn1 = nn.BatchNorm2d(64)\n",
    "        self.act1 = nn.ReLU(inplace=True)\n",
    "        self.maxpool = nn.MaxPool2d(kernel_size=3, stride=2, padding=1)\n",
    "        \n",
    "        self.layer1 = Layer1()\n",
    "        self.layer2 = Layer2()\n",
    "        self.layer3 = Layer3()\n",
    "        self.layer4 = Layer4()\n",
    "        \n",
    "        self.avg_pool = nn.AdaptiveAvgPool2d((1, 1))\n",
    "        self.linear = nn.Linear(2048, 1000)\n",
    "        \n",
    "        self.relu = nn.ReLU()\n",
    "    \n",
    "    def forward(self, x):\n",
    "        # stem\n",
    "        x = self.act1(self.bn1(self.conv1(x)))\n",
    "        \n",
    "        # maxpool\n",
    "        x = self.maxpool(x)\n",
    "        \n",
    "        # layer 1_1\n",
    "        x1_1 = self.layer1.block1(x)\n",
    "        x1_1 = self.relu(x1_1 + self.layer1.downsample1(x)) # shortcut\n",
    "        \n",
    "        # layer 1_2\n",
    "        x1_2 = self.layer1.block2(x1_1)\n",
    "        x1_2 = self.relu(x1_2 + x1_1) # shortcut\n",
    "\n",
    "        # layer 1_3\n",
    "        x1_3 = self.layer1.block3(x1_2)\n",
    "        x1_3 = self.relu(x1_3 + x1_2) # shortcut\n",
    "\n",
    "        # layer 2_1\n",
    "        x2_1 = self.layer2.block1(x1_3)\n",
    "        x2_1 = self.relu(x2_1 + self.layer2.downsample2(x1_3)) # shortcut\n",
    "\n",
    "        # layer 2_2\n",
    "        x2_2 = self.layer2.block2(x2_1)\n",
    "        x2_2 = self.relu(x2_2 + x2_1) # shortcut\n",
    "\n",
    "        # layer 2_3\n",
    "        x2_3 = self.layer2.block3(x2_2)\n",
    "        x2_3 = self.relu(x2_3 + x2_2) # shortcut\n",
    "        \n",
    "        # layer 2_4\n",
    "        x2_4 = self.layer2.block4(x2_3)\n",
    "        x2_4 = self.relu(x2_4 + x2_3) # shortcut\n",
    "        \n",
    "        # layer 3_1\n",
    "        x3_1 = self.layer3.block1(x2_4)\n",
    "        x3_1 = self.relu(x3_1 + self.layer3.downsample3(x2_4)) # shortcut\n",
    "\n",
    "        # layer 3_2\n",
    "        x3_2 = self.layer3.block2(x3_1)\n",
    "        x3_2 = self.relu(x3_2 + x3_1) # shortcut\n",
    "\n",
    "        # layer 3_3\n",
    "        x3_3 = self.layer3.block3(x3_2)\n",
    "        x3_3 = self.relu(x3_3 + x3_2) # shortcut\n",
    "        \n",
    "        # layer 3_4\n",
    "        x3_4 = self.layer3.block4(x3_3)\n",
    "        x3_4 = self.relu(x3_4 + x3_3) # shortcut\n",
    "\n",
    "        # layer 3_5\n",
    "        x3_5 = self.layer3.block5(x3_4)\n",
    "        x3_5 = self.relu(x3_5 + x3_4) # shortcut\n",
    "        \n",
    "        # layer 3_6\n",
    "        x3_6 = self.layer3.block6(x3_5)\n",
    "        x3_6 = self.relu(x3_6 + x3_5) # shortcut\n",
    "\n",
    "        # layer 4_1\n",
    "        x4_1 = self.layer4.block1(x3_6)\n",
    "        x4_1 = self.relu(x4_1 + self.layer4.downsample4(x3_6)) # shortcut\n",
    "\n",
    "        # layer 4_2\n",
    "        x4_2 = self.layer4.block2(x4_1)\n",
    "        x4_2 = self.relu(x4_2 + x4_1) # shortcut\n",
    "        \n",
    "        # layer 4_3\n",
    "        x4_3 = self.layer4.block3(x4_2)\n",
    "        x4_3 = self.relu(x4_3 + x4_2) # shortcut\n",
    "        \n",
    "        cp = self.avg_pool(x4_3).reshape(x.shape[0], -1)\n",
    "        \n",
    "        l = self.linear(cp)\n",
    "        \n",
    "        return l"
   ]
  },
  {
   "cell_type": "code",
   "execution_count": 8,
   "id": "d30801ec",
   "metadata": {
    "execution": {
     "iopub.execute_input": "2022-08-18T07:52:45.936643Z",
     "iopub.status.busy": "2022-08-18T07:52:45.936250Z",
     "iopub.status.idle": "2022-08-18T07:52:54.748266Z",
     "shell.execute_reply": "2022-08-18T07:52:54.746992Z"
    },
    "papermill": {
     "duration": 8.820815,
     "end_time": "2022-08-18T07:52:54.751078",
     "exception": false,
     "start_time": "2022-08-18T07:52:45.930263",
     "status": "completed"
    },
    "tags": []
   },
   "outputs": [
    {
     "name": "stderr",
     "output_type": "stream",
     "text": [
      "Downloading: \"https://download.pytorch.org/models/resnet50-0676ba61.pth\" to /root/.cache/torch/hub/checkpoints/resnet50-0676ba61.pth\n"
     ]
    },
    {
     "data": {
      "application/vnd.jupyter.widget-view+json": {
       "model_id": "402a796b9c95457fb62e64e28ffd3963",
       "version_major": 2,
       "version_minor": 0
      },
      "text/plain": [
       "  0%|          | 0.00/97.8M [00:00<?, ?B/s]"
      ]
     },
     "metadata": {},
     "output_type": "display_data"
    }
   ],
   "source": [
    "# test\n",
    "r50 = models.resnet50(pretrained=True).to(device) # model from PyTorch\n",
    "model = ResNet50().to(device) # our custom model\n",
    "\n",
    "r50_state = r50.state_dict()\n",
    "model_state = model.state_dict()\n",
    "\n",
    "model_state_keys = list(model_state.keys())\n",
    "\n",
    "model_state_new = OrderedDict()"
   ]
  },
  {
   "cell_type": "code",
   "execution_count": 9,
   "id": "9a145a7c",
   "metadata": {
    "execution": {
     "iopub.execute_input": "2022-08-18T07:52:54.762961Z",
     "iopub.status.busy": "2022-08-18T07:52:54.762561Z",
     "iopub.status.idle": "2022-08-18T07:52:54.768199Z",
     "shell.execute_reply": "2022-08-18T07:52:54.766937Z"
    },
    "papermill": {
     "duration": 0.014433,
     "end_time": "2022-08-18T07:52:54.770732",
     "exception": false,
     "start_time": "2022-08-18T07:52:54.756299",
     "status": "completed"
    },
    "tags": []
   },
   "outputs": [],
   "source": [
    "def count_params(model):\n",
    "    return sum(np.prod(p.size()) for p in model.parameters() if p.requires_grad)"
   ]
  },
  {
   "cell_type": "code",
   "execution_count": 10,
   "id": "1cdddb3a",
   "metadata": {
    "execution": {
     "iopub.execute_input": "2022-08-18T07:52:54.782755Z",
     "iopub.status.busy": "2022-08-18T07:52:54.782056Z",
     "iopub.status.idle": "2022-08-18T07:52:54.799488Z",
     "shell.execute_reply": "2022-08-18T07:52:54.798370Z"
    },
    "papermill": {
     "duration": 0.026002,
     "end_time": "2022-08-18T07:52:54.801799",
     "exception": false,
     "start_time": "2022-08-18T07:52:54.775797",
     "status": "completed"
    },
    "tags": []
   },
   "outputs": [
    {
     "data": {
      "text/plain": [
       "(25557032, 25557032)"
      ]
     },
     "execution_count": 10,
     "metadata": {},
     "output_type": "execute_result"
    }
   ],
   "source": [
    "count_params(r50), count_params(model) # both have equal number of parameters"
   ]
  },
  {
   "cell_type": "code",
   "execution_count": 11,
   "id": "7f101154",
   "metadata": {
    "execution": {
     "iopub.execute_input": "2022-08-18T07:52:54.813740Z",
     "iopub.status.busy": "2022-08-18T07:52:54.813342Z",
     "iopub.status.idle": "2022-08-18T07:52:54.818616Z",
     "shell.execute_reply": "2022-08-18T07:52:54.817400Z"
    },
    "papermill": {
     "duration": 0.014426,
     "end_time": "2022-08-18T07:52:54.821264",
     "exception": false,
     "start_time": "2022-08-18T07:52:54.806838",
     "status": "completed"
    },
    "tags": []
   },
   "outputs": [],
   "source": [
    "for i, k in enumerate(r50_state.keys()):\n",
    "    model_state_new[model_state_keys[i]] = r50_state[k]"
   ]
  },
  {
   "cell_type": "code",
   "execution_count": 12,
   "id": "f379c1b4",
   "metadata": {
    "execution": {
     "iopub.execute_input": "2022-08-18T07:52:54.833360Z",
     "iopub.status.busy": "2022-08-18T07:52:54.832663Z",
     "iopub.status.idle": "2022-08-18T07:52:54.866695Z",
     "shell.execute_reply": "2022-08-18T07:52:54.865427Z"
    },
    "papermill": {
     "duration": 0.04272,
     "end_time": "2022-08-18T07:52:54.869005",
     "exception": false,
     "start_time": "2022-08-18T07:52:54.826285",
     "status": "completed"
    },
    "tags": []
   },
   "outputs": [
    {
     "data": {
      "text/plain": [
       "<All keys matched successfully>"
      ]
     },
     "execution_count": 12,
     "metadata": {},
     "output_type": "execute_result"
    }
   ],
   "source": [
    "model.load_state_dict(model_state_new) # load PyTorch model state into our model"
   ]
  },
  {
   "cell_type": "code",
   "execution_count": 13,
   "id": "3a99d450",
   "metadata": {
    "execution": {
     "iopub.execute_input": "2022-08-18T07:52:54.881636Z",
     "iopub.status.busy": "2022-08-18T07:52:54.880934Z",
     "iopub.status.idle": "2022-08-18T07:52:55.211595Z",
     "shell.execute_reply": "2022-08-18T07:52:55.210695Z"
    },
    "papermill": {
     "duration": 0.339801,
     "end_time": "2022-08-18T07:52:55.214203",
     "exception": false,
     "start_time": "2022-08-18T07:52:54.874402",
     "status": "completed"
    },
    "tags": []
   },
   "outputs": [],
   "source": [
    "input_tensor = torch.randn(1, 3, 224, 224).to(device)\n",
    "r50.eval()\n",
    "model.eval()\n",
    "\n",
    "with torch.no_grad():\n",
    "    resnet_output = r50(input_tensor)\n",
    "    custom_model_output = model(input_tensor)"
   ]
  },
  {
   "cell_type": "code",
   "execution_count": 14,
   "id": "41efe9c4",
   "metadata": {
    "execution": {
     "iopub.execute_input": "2022-08-18T07:52:55.229980Z",
     "iopub.status.busy": "2022-08-18T07:52:55.227643Z",
     "iopub.status.idle": "2022-08-18T07:52:55.236265Z",
     "shell.execute_reply": "2022-08-18T07:52:55.235227Z"
    },
    "papermill": {
     "duration": 0.018238,
     "end_time": "2022-08-18T07:52:55.238538",
     "exception": false,
     "start_time": "2022-08-18T07:52:55.220300",
     "status": "completed"
    },
    "tags": []
   },
   "outputs": [
    {
     "data": {
      "text/plain": [
       "tensor(1000)"
      ]
     },
     "execution_count": 14,
     "metadata": {},
     "output_type": "execute_result"
    }
   ],
   "source": [
    "(resnet_output == custom_model_output).sum() # to check if both the models are generating same predictions"
   ]
  },
  {
   "cell_type": "code",
   "execution_count": null,
   "id": "9372c8e4",
   "metadata": {
    "papermill": {
     "duration": 0.004905,
     "end_time": "2022-08-18T07:52:55.248857",
     "exception": false,
     "start_time": "2022-08-18T07:52:55.243952",
     "status": "completed"
    },
    "tags": []
   },
   "outputs": [],
   "source": []
  }
 ],
 "metadata": {
  "kernelspec": {
   "display_name": "Python 3",
   "language": "python",
   "name": "python3"
  },
  "language_info": {
   "codemirror_mode": {
    "name": "ipython",
    "version": 3
   },
   "file_extension": ".py",
   "mimetype": "text/x-python",
   "name": "python",
   "nbconvert_exporter": "python",
   "pygments_lexer": "ipython3",
   "version": "3.7.12"
  },
  "papermill": {
   "default_parameters": {},
   "duration": 21.943711,
   "end_time": "2022-08-18T07:52:56.082904",
   "environment_variables": {},
   "exception": null,
   "input_path": "__notebook__.ipynb",
   "output_path": "__notebook__.ipynb",
   "parameters": {},
   "start_time": "2022-08-18T07:52:34.139193",
   "version": "2.3.4"
  },
  "widgets": {
   "application/vnd.jupyter.widget-state+json": {
    "state": {
     "0fccba3521ee4285aef59a6b243906d1": {
      "model_module": "@jupyter-widgets/controls",
      "model_module_version": "1.5.0",
      "model_name": "DescriptionStyleModel",
      "state": {
       "_model_module": "@jupyter-widgets/controls",
       "_model_module_version": "1.5.0",
       "_model_name": "DescriptionStyleModel",
       "_view_count": null,
       "_view_module": "@jupyter-widgets/base",
       "_view_module_version": "1.2.0",
       "_view_name": "StyleView",
       "description_width": ""
      }
     },
     "2121e662bb814f59891e8fe245514a2e": {
      "model_module": "@jupyter-widgets/controls",
      "model_module_version": "1.5.0",
      "model_name": "HTMLModel",
      "state": {
       "_dom_classes": [],
       "_model_module": "@jupyter-widgets/controls",
       "_model_module_version": "1.5.0",
       "_model_name": "HTMLModel",
       "_view_count": null,
       "_view_module": "@jupyter-widgets/controls",
       "_view_module_version": "1.5.0",
       "_view_name": "HTMLView",
       "description": "",
       "description_tooltip": null,
       "layout": "IPY_MODEL_e474df3a25ef44f68172359f7e51550c",
       "placeholder": "​",
       "style": "IPY_MODEL_d99add5986da44f7bd7b7e597848f7d2",
       "value": "100%"
      }
     },
     "2629cc808848414b99f299ef94841dcd": {
      "model_module": "@jupyter-widgets/controls",
      "model_module_version": "1.5.0",
      "model_name": "ProgressStyleModel",
      "state": {
       "_model_module": "@jupyter-widgets/controls",
       "_model_module_version": "1.5.0",
       "_model_name": "ProgressStyleModel",
       "_view_count": null,
       "_view_module": "@jupyter-widgets/base",
       "_view_module_version": "1.2.0",
       "_view_name": "StyleView",
       "bar_color": null,
       "description_width": ""
      }
     },
     "402a796b9c95457fb62e64e28ffd3963": {
      "model_module": "@jupyter-widgets/controls",
      "model_module_version": "1.5.0",
      "model_name": "HBoxModel",
      "state": {
       "_dom_classes": [],
       "_model_module": "@jupyter-widgets/controls",
       "_model_module_version": "1.5.0",
       "_model_name": "HBoxModel",
       "_view_count": null,
       "_view_module": "@jupyter-widgets/controls",
       "_view_module_version": "1.5.0",
       "_view_name": "HBoxView",
       "box_style": "",
       "children": [
        "IPY_MODEL_2121e662bb814f59891e8fe245514a2e",
        "IPY_MODEL_599098b521374cf1a9082998d1de8feb",
        "IPY_MODEL_c1016c9d1a9d44ada7e591a38b87d118"
       ],
       "layout": "IPY_MODEL_ae1b22ef62f84bdbbc52d2176ad52f79"
      }
     },
     "599098b521374cf1a9082998d1de8feb": {
      "model_module": "@jupyter-widgets/controls",
      "model_module_version": "1.5.0",
      "model_name": "FloatProgressModel",
      "state": {
       "_dom_classes": [],
       "_model_module": "@jupyter-widgets/controls",
       "_model_module_version": "1.5.0",
       "_model_name": "FloatProgressModel",
       "_view_count": null,
       "_view_module": "@jupyter-widgets/controls",
       "_view_module_version": "1.5.0",
       "_view_name": "ProgressView",
       "bar_style": "success",
       "description": "",
       "description_tooltip": null,
       "layout": "IPY_MODEL_708ca2d91ec04f27aef850761a667eb4",
       "max": 102530333.0,
       "min": 0.0,
       "orientation": "horizontal",
       "style": "IPY_MODEL_2629cc808848414b99f299ef94841dcd",
       "value": 102530333.0
      }
     },
     "708ca2d91ec04f27aef850761a667eb4": {
      "model_module": "@jupyter-widgets/base",
      "model_module_version": "1.2.0",
      "model_name": "LayoutModel",
      "state": {
       "_model_module": "@jupyter-widgets/base",
       "_model_module_version": "1.2.0",
       "_model_name": "LayoutModel",
       "_view_count": null,
       "_view_module": "@jupyter-widgets/base",
       "_view_module_version": "1.2.0",
       "_view_name": "LayoutView",
       "align_content": null,
       "align_items": null,
       "align_self": null,
       "border": null,
       "bottom": null,
       "display": null,
       "flex": null,
       "flex_flow": null,
       "grid_area": null,
       "grid_auto_columns": null,
       "grid_auto_flow": null,
       "grid_auto_rows": null,
       "grid_column": null,
       "grid_gap": null,
       "grid_row": null,
       "grid_template_areas": null,
       "grid_template_columns": null,
       "grid_template_rows": null,
       "height": null,
       "justify_content": null,
       "justify_items": null,
       "left": null,
       "margin": null,
       "max_height": null,
       "max_width": null,
       "min_height": null,
       "min_width": null,
       "object_fit": null,
       "object_position": null,
       "order": null,
       "overflow": null,
       "overflow_x": null,
       "overflow_y": null,
       "padding": null,
       "right": null,
       "top": null,
       "visibility": null,
       "width": null
      }
     },
     "7dd27a477cac4c7e9502e4400022f2d3": {
      "model_module": "@jupyter-widgets/base",
      "model_module_version": "1.2.0",
      "model_name": "LayoutModel",
      "state": {
       "_model_module": "@jupyter-widgets/base",
       "_model_module_version": "1.2.0",
       "_model_name": "LayoutModel",
       "_view_count": null,
       "_view_module": "@jupyter-widgets/base",
       "_view_module_version": "1.2.0",
       "_view_name": "LayoutView",
       "align_content": null,
       "align_items": null,
       "align_self": null,
       "border": null,
       "bottom": null,
       "display": null,
       "flex": null,
       "flex_flow": null,
       "grid_area": null,
       "grid_auto_columns": null,
       "grid_auto_flow": null,
       "grid_auto_rows": null,
       "grid_column": null,
       "grid_gap": null,
       "grid_row": null,
       "grid_template_areas": null,
       "grid_template_columns": null,
       "grid_template_rows": null,
       "height": null,
       "justify_content": null,
       "justify_items": null,
       "left": null,
       "margin": null,
       "max_height": null,
       "max_width": null,
       "min_height": null,
       "min_width": null,
       "object_fit": null,
       "object_position": null,
       "order": null,
       "overflow": null,
       "overflow_x": null,
       "overflow_y": null,
       "padding": null,
       "right": null,
       "top": null,
       "visibility": null,
       "width": null
      }
     },
     "ae1b22ef62f84bdbbc52d2176ad52f79": {
      "model_module": "@jupyter-widgets/base",
      "model_module_version": "1.2.0",
      "model_name": "LayoutModel",
      "state": {
       "_model_module": "@jupyter-widgets/base",
       "_model_module_version": "1.2.0",
       "_model_name": "LayoutModel",
       "_view_count": null,
       "_view_module": "@jupyter-widgets/base",
       "_view_module_version": "1.2.0",
       "_view_name": "LayoutView",
       "align_content": null,
       "align_items": null,
       "align_self": null,
       "border": null,
       "bottom": null,
       "display": null,
       "flex": null,
       "flex_flow": null,
       "grid_area": null,
       "grid_auto_columns": null,
       "grid_auto_flow": null,
       "grid_auto_rows": null,
       "grid_column": null,
       "grid_gap": null,
       "grid_row": null,
       "grid_template_areas": null,
       "grid_template_columns": null,
       "grid_template_rows": null,
       "height": null,
       "justify_content": null,
       "justify_items": null,
       "left": null,
       "margin": null,
       "max_height": null,
       "max_width": null,
       "min_height": null,
       "min_width": null,
       "object_fit": null,
       "object_position": null,
       "order": null,
       "overflow": null,
       "overflow_x": null,
       "overflow_y": null,
       "padding": null,
       "right": null,
       "top": null,
       "visibility": null,
       "width": null
      }
     },
     "c1016c9d1a9d44ada7e591a38b87d118": {
      "model_module": "@jupyter-widgets/controls",
      "model_module_version": "1.5.0",
      "model_name": "HTMLModel",
      "state": {
       "_dom_classes": [],
       "_model_module": "@jupyter-widgets/controls",
       "_model_module_version": "1.5.0",
       "_model_name": "HTMLModel",
       "_view_count": null,
       "_view_module": "@jupyter-widgets/controls",
       "_view_module_version": "1.5.0",
       "_view_name": "HTMLView",
       "description": "",
       "description_tooltip": null,
       "layout": "IPY_MODEL_7dd27a477cac4c7e9502e4400022f2d3",
       "placeholder": "​",
       "style": "IPY_MODEL_0fccba3521ee4285aef59a6b243906d1",
       "value": " 97.8M/97.8M [00:07&lt;00:00, 16.5MB/s]"
      }
     },
     "d99add5986da44f7bd7b7e597848f7d2": {
      "model_module": "@jupyter-widgets/controls",
      "model_module_version": "1.5.0",
      "model_name": "DescriptionStyleModel",
      "state": {
       "_model_module": "@jupyter-widgets/controls",
       "_model_module_version": "1.5.0",
       "_model_name": "DescriptionStyleModel",
       "_view_count": null,
       "_view_module": "@jupyter-widgets/base",
       "_view_module_version": "1.2.0",
       "_view_name": "StyleView",
       "description_width": ""
      }
     },
     "e474df3a25ef44f68172359f7e51550c": {
      "model_module": "@jupyter-widgets/base",
      "model_module_version": "1.2.0",
      "model_name": "LayoutModel",
      "state": {
       "_model_module": "@jupyter-widgets/base",
       "_model_module_version": "1.2.0",
       "_model_name": "LayoutModel",
       "_view_count": null,
       "_view_module": "@jupyter-widgets/base",
       "_view_module_version": "1.2.0",
       "_view_name": "LayoutView",
       "align_content": null,
       "align_items": null,
       "align_self": null,
       "border": null,
       "bottom": null,
       "display": null,
       "flex": null,
       "flex_flow": null,
       "grid_area": null,
       "grid_auto_columns": null,
       "grid_auto_flow": null,
       "grid_auto_rows": null,
       "grid_column": null,
       "grid_gap": null,
       "grid_row": null,
       "grid_template_areas": null,
       "grid_template_columns": null,
       "grid_template_rows": null,
       "height": null,
       "justify_content": null,
       "justify_items": null,
       "left": null,
       "margin": null,
       "max_height": null,
       "max_width": null,
       "min_height": null,
       "min_width": null,
       "object_fit": null,
       "object_position": null,
       "order": null,
       "overflow": null,
       "overflow_x": null,
       "overflow_y": null,
       "padding": null,
       "right": null,
       "top": null,
       "visibility": null,
       "width": null
      }
     }
    },
    "version_major": 2,
    "version_minor": 0
   }
  }
 },
 "nbformat": 4,
 "nbformat_minor": 5
}
